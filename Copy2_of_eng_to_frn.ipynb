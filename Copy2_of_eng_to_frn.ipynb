{
 "cells": [
  {
   "cell_type": "code",
   "execution_count": 2,
   "metadata": {
    "id": "Krmi75KD2fBG"
   },
   "outputs": [],
   "source": [
    "import pandas as pd\n",
    "import numpy as np"
   ]
  },
  {
   "cell_type": "code",
   "execution_count": 3,
   "metadata": {
    "id": "05WDYEM6LlOC"
   },
   "outputs": [],
   "source": [
    "from keras.preprocessing.text import Tokenizer\n",
    "from keras.utils import pad_sequences\n",
    "from keras.models import Sequential,Model\n",
    "from keras.layers import GRU,LSTM, Input, Dense, TimeDistributed, Activation, RepeatVector, Bidirectional, Embedding,Dropout\n",
    "from keras.optimizers import Adam\n",
    "from keras.losses import sparse_categorical_crossentropy\n",
    "from keras.callbacks import ModelCheckpoint\n",
    "from sklearn.model_selection import train_test_split\n"
   ]
  },
  {
   "cell_type": "code",
   "execution_count": 4,
   "metadata": {
    "colab": {
     "base_uri": "https://localhost:8080/",
     "height": 204
    },
    "id": "vZ1WBVdsLqTS",
    "outputId": "3409b286-075f-4349-8406-5833e3a53fd8"
   },
   "outputs": [
    {
     "data": {
      "text/html": [
       "<div>\n",
       "<style scoped>\n",
       "    .dataframe tbody tr th:only-of-type {\n",
       "        vertical-align: middle;\n",
       "    }\n",
       "\n",
       "    .dataframe tbody tr th {\n",
       "        vertical-align: top;\n",
       "    }\n",
       "\n",
       "    .dataframe thead th {\n",
       "        text-align: right;\n",
       "    }\n",
       "</style>\n",
       "<table border=\"1\" class=\"dataframe\">\n",
       "  <thead>\n",
       "    <tr style=\"text-align: right;\">\n",
       "      <th></th>\n",
       "      <th>English words/sentences</th>\n",
       "      <th>French words/sentences</th>\n",
       "    </tr>\n",
       "  </thead>\n",
       "  <tbody>\n",
       "    <tr>\n",
       "      <th>0</th>\n",
       "      <td>Hi.</td>\n",
       "      <td>Salut!</td>\n",
       "    </tr>\n",
       "    <tr>\n",
       "      <th>1</th>\n",
       "      <td>Run!</td>\n",
       "      <td>Cours !</td>\n",
       "    </tr>\n",
       "    <tr>\n",
       "      <th>2</th>\n",
       "      <td>Run!</td>\n",
       "      <td>Courez !</td>\n",
       "    </tr>\n",
       "    <tr>\n",
       "      <th>3</th>\n",
       "      <td>Who?</td>\n",
       "      <td>Qui ?</td>\n",
       "    </tr>\n",
       "    <tr>\n",
       "      <th>4</th>\n",
       "      <td>Wow!</td>\n",
       "      <td>Ça alors !</td>\n",
       "    </tr>\n",
       "  </tbody>\n",
       "</table>\n",
       "</div>"
      ],
      "text/plain": [
       "  English words/sentences French words/sentences\n",
       "0                     Hi.                 Salut!\n",
       "1                    Run!                Cours !\n",
       "2                    Run!               Courez !\n",
       "3                    Who?                  Qui ?\n",
       "4                    Wow!             Ça alors !"
      ]
     },
     "execution_count": 4,
     "metadata": {},
     "output_type": "execute_result"
    }
   ],
   "source": [
    "df = pd.read_csv('eng_-french.csv')\n",
    "df.head()"
   ]
  },
  {
   "cell_type": "code",
   "execution_count": 5,
   "metadata": {
    "colab": {
     "base_uri": "https://localhost:8080/"
    },
    "id": "WzZhjTYdNbD0",
    "outputId": "486d932c-2c12-42c9-f499-ee9c20658b11"
   },
   "outputs": [
    {
     "name": "stdout",
     "output_type": "stream",
     "text": [
      "(175621,)\n",
      "(175621,)\n"
     ]
    }
   ],
   "source": [
    "eng = df['English words/sentences']\n",
    "frn = df['French words/sentences']\n",
    "print(eng.shape)\n",
    "print(frn.shape)"
   ]
  },
  {
   "cell_type": "code",
   "execution_count": 6,
   "metadata": {
    "id": "TbFPZh8yQQT9"
   },
   "outputs": [],
   "source": [
    "def tokenize(data):\n",
    "    tokenizer = Tokenizer()\n",
    "    # Replace commas with spaces in each sentence\n",
    "    for i in range(len(data)):\n",
    "        data[i] = data[i].replace(',', ' ')\n",
    "    tokenizer.fit_on_texts(data)\n",
    "    tokenned_data = tokenizer.texts_to_sequences(data)  # (numbers assigned to each unique word)/tokens\n",
    "\n",
    "    return tokenned_data, tokenizer\n"
   ]
  },
  {
   "cell_type": "code",
   "execution_count": 7,
   "metadata": {
    "id": "l9elzH8zZ2xJ"
   },
   "outputs": [],
   "source": [
    "def pad(tokenned_data):\n",
    "  maxlen=-1\n",
    "  for sentence in tokenned_data:#sentence or tokens/encoded words\n",
    "    if(maxlen<len(sentence)):\n",
    "      maxlen=len(sentence)\n",
    "  print(maxlen)\n",
    "  pad_data=pad_sequences(tokenned_data,maxlen=55,padding='post',value=0.0)\n",
    "\n",
    "  return pad_data"
   ]
  },
  {
   "cell_type": "code",
   "execution_count": 8,
   "metadata": {
    "id": "JcJ_Nny6KYnn"
   },
   "outputs": [],
   "source": [
    "def preprocess(eng,frn):\n",
    "  tokenned_x, x_tk= tokenize(eng)\n",
    "  tokenned_y, y_tk= tokenize(frn)\n",
    "\n",
    "  pad_x = pad(tokenned_x)\n",
    "  pad_y = pad(tokenned_y)\n",
    "\n",
    "  # Keras's sparse_categorical_crossentropy function requires the labels to be in 3 dimensions\n",
    "  pad_y = pad_y.reshape(*pad_y.shape, 1)\n",
    "\n",
    "  return pad_x , pad_y , x_tk , y_tk#x_vocab is a directory"
   ]
  },
  {
   "cell_type": "code",
   "execution_count": 9,
   "metadata": {
    "colab": {
     "base_uri": "https://localhost:8080/"
    },
    "id": "Qo3SdtxQMKvE",
    "outputId": "7cb776fe-f737-4a33-a110-c7ff5ad0cea5"
   },
   "outputs": [
    {
     "name": "stdout",
     "output_type": "stream",
     "text": [
      "44\n",
      "55\n"
     ]
    }
   ],
   "source": [
    "pad_x,pad_y,tokenizer_eng,tokenizer_frn = preprocess(eng,frn)"
   ]
  },
  {
   "cell_type": "code",
   "execution_count": 10,
   "metadata": {
    "colab": {
     "base_uri": "https://localhost:8080/"
    },
    "id": "enT3BJIYL-wG",
    "outputId": "f7ac7f26-5fe5-49b7-cca6-410f9c5de613"
   },
   "outputs": [
    {
     "name": "stdout",
     "output_type": "stream",
     "text": [
      "Max English sentence length: 55\n",
      "Max French sentence length: 55\n",
      "English vocabulary size: 14532\n",
      "French vocabulary size: 30661\n"
     ]
    }
   ],
   "source": [
    "max_eng_sequence_length = pad_x.shape[1]\n",
    "max_frn_sequence_length = pad_y.shape[1]\n",
    "\n",
    "english_vocab_size = len(tokenizer_eng.word_index)+1\n",
    "french_vocab_size = len(tokenizer_frn.word_index)+1\n",
    "\n",
    "print(\"Max English sentence length:\", max_eng_sequence_length)\n",
    "print(\"Max French sentence length:\", max_frn_sequence_length)\n",
    "print(\"English vocabulary size:\", english_vocab_size)\n",
    "print(\"French vocabulary size:\", french_vocab_size)"
   ]
  },
  {
   "cell_type": "markdown",
   "metadata": {
    "id": "gJGtPCZYs-Je"
   },
   "source": [
    "Model"
   ]
  },
  {
   "cell_type": "code",
   "execution_count": 11,
   "metadata": {
    "colab": {
     "base_uri": "https://localhost:8080/"
    },
    "id": "SL5hQYL6TAgZ",
    "outputId": "a78ec5e2-dc9a-4905-fe74-564e757ba628"
   },
   "outputs": [
    {
     "name": "stderr",
     "output_type": "stream",
     "text": [
      "WARNING:absl:At this time, the v2.11+ optimizer `tf.keras.optimizers.Adam` runs slowly on M1/M2 Macs, please use the legacy Keras optimizer instead, located at `tf.keras.optimizers.legacy.Adam`.\n",
      "WARNING:absl:There is a known slowdown when using v2.11+ Keras optimizers on M1/M2 Macs. Falling back to the legacy Keras optimizer, i.e., `tf.keras.optimizers.legacy.Adam`.\n"
     ]
    },
    {
     "name": "stdout",
     "output_type": "stream",
     "text": [
      "Model: \"sequential\"\n",
      "_________________________________________________________________\n",
      " Layer (type)                Output Shape              Param #   \n",
      "=================================================================\n",
      " embedding (Embedding)       (None, 55, 256)           3720192   \n",
      "                                                                 \n",
      " bidirectional (Bidirection  (None, 55, 512)           789504    \n",
      " al)                                                             \n",
      "                                                                 \n",
      " time_distributed (TimeDist  (None, 55, 30661)         15729093  \n",
      " ributed)                                                        \n",
      "                                                                 \n",
      "=================================================================\n",
      "Total params: 20238789 (77.20 MB)\n",
      "Trainable params: 20238789 (77.20 MB)\n",
      "Non-trainable params: 0 (0.00 Byte)\n",
      "_________________________________________________________________\n"
     ]
    }
   ],
   "source": [
    "# Define input shape and output sequence length\n",
    "input_shape = pad_x.shape[1:]\n",
    "output_sequence_length = pad_y.shape[1]\n",
    "\n",
    "# Define the model\n",
    "model = Sequential()\n",
    "model.add(Embedding(input_dim=english_vocab_size, output_dim=256,input_length=55))\n",
    "model.add(Bidirectional(GRU(256, return_sequences=True)))\n",
    "model.add(TimeDistributed(Dense(french_vocab_size, activation='softmax')))\n",
    "\n",
    "# Compile the model\n",
    "learning_rate = 0.003\n",
    "model.compile(loss=sparse_categorical_crossentropy,\n",
    "              optimizer=Adam(learning_rate),\n",
    "              metrics=['accuracy'])\n",
    "\n",
    "# Print the model summary\n",
    "model.summary()"
   ]
  },
  {
   "cell_type": "code",
   "execution_count": 12,
   "metadata": {
    "colab": {
     "base_uri": "https://localhost:8080/"
    },
    "id": "Ix1ZyKHT6icR",
    "outputId": "7db07c5f-ac3d-4dfe-b5c5-0f9229a51409"
   },
   "outputs": [
    {
     "name": "stdout",
     "output_type": "stream",
     "text": [
      "(175621, 55)\n",
      "(175621, 55, 1)\n"
     ]
    }
   ],
   "source": [
    "print(pad_x.shape)\n",
    "print(pad_y.shape)"
   ]
  },
  {
   "cell_type": "code",
   "execution_count": null,
   "metadata": {
    "colab": {
     "base_uri": "https://localhost:8080/",
     "height": 385
    },
    "id": "XzHdkpld7tYl",
    "outputId": "efa85fcc-8027-437a-90d7-e6f31aff1f67"
   },
   "outputs": [
    {
     "name": "stdout",
     "output_type": "stream",
     "text": [
      " 795/2196 [=========>....................] - ETA: 13:02:44 - loss: 0.5865 - accuracy: 0.9197"
     ]
    }
   ],
   "source": [
    "# Train the model\n",
    "batch_size = 64\n",
    "epochs = 1\n",
    "model.fit(pad_x, pad_y, batch_size=batch_size, epochs=epochs, validation_split=0.2)"
   ]
  },
  {
   "cell_type": "code",
   "execution_count": null,
   "metadata": {},
   "outputs": [],
   "source": [
    "import pickle\n",
    "\n",
    "# Save the tokenizers\n",
    "with open('tokenizer_eng.pkl', 'wb') as f:\n",
    "    pickle.dump(tokenizer_eng, f)\n",
    "with open('tokenizer_frn.pkl', 'wb') as f:\n",
    "    pickle.dump(tokenizer_frn, f)"
   ]
  },
  {
   "cell_type": "code",
   "execution_count": null,
   "metadata": {},
   "outputs": [],
   "source": [
    "# Save the model in native Keras format\n",
    "model.save('my_model.keras')"
   ]
  },
  {
   "cell_type": "code",
   "execution_count": null,
   "metadata": {},
   "outputs": [],
   "source": [
    "from tensorflow.keras.models import load_model\n",
    "loaded_model = load_model('translation_model.h5')"
   ]
  },
  {
   "cell_type": "code",
   "execution_count": null,
   "metadata": {},
   "outputs": [],
   "source": [
    "from tensorflow.keras.models import load_model\n",
    "\n",
    "# Load the saved model\n",
    "loaded_model = load_model('translation_model.h5')\n",
    "\n",
    "# Load the tokenizer (make sure you replace 'tokenizer_eng.pkl' and 'tokenizer_frn.pkl' with the actual filenames)\n",
    "import pickle\n",
    "with open('tokenizer_eng.pkl', 'rb') as f:\n",
    "    tokenizer_eng = pickle.load(f)\n",
    "with open('tokenizer_frn.pkl', 'rb') as f:\n",
    "    tokenizer_frn = pickle.load(f)\n"
   ]
  },
  {
   "cell_type": "code",
   "execution_count": null,
   "metadata": {},
   "outputs": [],
   "source": [
    "def preprocess_input(text, tokenizer):\n",
    "    text = [text]\n",
    "    tokenized = tokenizer.texts_to_sequences(text)\n",
    "    padded = pad_sequences(tokenized, maxlen=max_eng_sequence_length, padding='post')\n",
    "    return padded\n"
   ]
  },
  {
   "cell_type": "code",
   "execution_count": null,
   "metadata": {},
   "outputs": [],
   "source": [
    "# Define your input text (replace this with your desired input)\n",
    "custom_input = \"my name is sakya\"\n",
    "\n",
    "# Preprocess the input text for translation\n",
    "preprocessed_input = preprocess_input(custom_input, tokenizer_eng)\n",
    "\n",
    "# Make predictions using the loaded model\n",
    "translated_sequence = loaded_model.predict(preprocessed_input)\n",
    "\n",
    "\n",
    "# Get the index of the word with the highest probability for each step in the sequence\n",
    "translated_sequence_indices = [np.argmax(seq, axis=-1) for seq in translated_sequence]\n",
    "\n",
    "# Convert the indices back to text using the French tokenizer\n",
    "translated_text_list = [tokenizer_frn.index_word.get(idx, '') for idx in translated_sequence_indices[0]]\n",
    "\n",
    "# Join the individual text segments to form the translated text\n",
    "translated_text = ' '.join(translated_text_list)\n",
    "\n",
    "# Print the input and translated text\n",
    "print(\"Input:\", custom_input)\n",
    "print(\"Translated:\", translated_text)"
   ]
  },
  {
   "cell_type": "code",
   "execution_count": null,
   "metadata": {},
   "outputs": [],
   "source": []
  }
 ],
 "metadata": {
  "colab": {
   "provenance": []
  },
  "kernelspec": {
   "display_name": "Python 3 (ipykernel)",
   "language": "python",
   "name": "python3"
  },
  "language_info": {
   "codemirror_mode": {
    "name": "ipython",
    "version": 3
   },
   "file_extension": ".py",
   "mimetype": "text/x-python",
   "name": "python",
   "nbconvert_exporter": "python",
   "pygments_lexer": "ipython3",
   "version": "3.10.12"
  }
 },
 "nbformat": 4,
 "nbformat_minor": 1
}
